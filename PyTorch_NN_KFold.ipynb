{
  "nbformat": 4,
  "nbformat_minor": 0,
  "metadata": {
    "colab": {
      "provenance": [],
      "gpuType": "T4",
      "authorship_tag": "ABX9TyMk/IA8wnSVBtiCX8SI+8f8",
      "include_colab_link": true
    },
    "kernelspec": {
      "name": "python3",
      "display_name": "Python 3"
    },
    "language_info": {
      "name": "python"
    },
    "accelerator": "GPU"
  },
  "cells": [
    {
      "cell_type": "markdown",
      "metadata": {
        "id": "view-in-github",
        "colab_type": "text"
      },
      "source": [
        "<a href=\"https://colab.research.google.com/github/Wandering-Sci/Python-Samples/blob/main/PyTorch_NN_KFold.ipynb\" target=\"_parent\"><img src=\"https://colab.research.google.com/assets/colab-badge.svg\" alt=\"Open In Colab\"/></a>"
      ]
    },
    {
      "cell_type": "markdown",
      "source": [
        "**PyTorch example on Iris dataset with K-Fold Cross-Validation**"
      ],
      "metadata": {
        "id": "eGkG4KA-ohcn"
      }
    },
    {
      "cell_type": "code",
      "execution_count": 1,
      "metadata": {
        "id": "8toHuXUwtMy-"
      },
      "outputs": [],
      "source": [
        "import numpy as np\n",
        "import pandas as pd\n",
        "import random\n",
        "import torch\n",
        "import torch.nn as nn\n",
        "import torch.nn.functional as F\n",
        "from torch.utils.data import WeightedRandomSampler\n",
        "from sklearn.datasets import load_iris\n",
        "import torch.optim as optim\n",
        "from sklearn.model_selection import KFold\n",
        "from torch.utils.data import TensorDataset, DataLoader\n",
        "from sklearn.metrics import classification_report, confusion_matrix, precision_score, recall_score, f1_score\n",
        "import matplotlib.pyplot as plt\n",
        "import seaborn as sns"
      ]
    },
    {
      "cell_type": "code",
      "source": [
        "# Set random seed for reproducibility\n",
        "SEED = 42\n",
        "torch.manual_seed(SEED)\n",
        "np.random.seed(SEED)\n",
        "random.seed(SEED)\n",
        "\n",
        "# For CUDA (if using a GPU)\n",
        "if torch.cuda.is_available():\n",
        "    torch.cuda.manual_seed(SEED)\n",
        "    torch.cuda.manual_seed_all(SEED)  # For multi-GPU setups\n",
        "    torch.backends.cudnn.deterministic = True\n",
        "    torch.backends.cudnn.benchmark = False  # Ensures deterministic behavior\n",
        "\n",
        "# Load iris dataset\n",
        "iris = load_iris()\n",
        "iris_x = torch.tensor(iris.data, dtype=torch.float32)\n",
        "iris_y = torch.tensor(iris.target, dtype=torch.long)\n",
        "\n",
        "dataset = TensorDataset(iris_x, iris_y)"
      ],
      "metadata": {
        "id": "Jafdky4Dv7ck"
      },
      "execution_count": 2,
      "outputs": []
    },
    {
      "cell_type": "code",
      "source": [
        "# Creating NN Model class\n",
        "class nnModel(nn.Module):\n",
        "  def __init__(self, input_size = 4, fc1 = 8, output_size = 3):\n",
        "    super().__init__()\n",
        "    self.fc1 = nn.Linear(input_size, fc1)\n",
        "    self.out = nn.Linear(fc1, output_size)\n",
        "\n",
        "  def forward(self, data):\n",
        "    data = F.relu(self.fc1(data))\n",
        "    data = self.out(data)\n",
        "    return data"
      ],
      "metadata": {
        "id": "XwaDzsB2xSLW"
      },
      "execution_count": 3,
      "outputs": []
    },
    {
      "cell_type": "code",
      "source": [
        "# Initializing KFold cross-validation\n",
        "folds_count = 5\n",
        "kf = KFold(n_splits = folds_count, shuffle = True, random_state = SEED)\n",
        "\n",
        "kf_result = []\n",
        "for fold, (train_idx, test_idx) in enumerate(kf.split(dataset)):\n",
        "  # Handling imbalance issue\n",
        "  train_targets = [iris_y[idx].item() for idx in train_idx]\n",
        "  class_counts = [train_targets.count(i) for i in range(len(iris.target_names))]\n",
        "  class_weights = [1.0 / count for count in class_counts]\n",
        "  train_sample_weights = [class_weights[iris_y[idx].item()] for idx in train_idx]\n",
        "  train_sampler = WeightedRandomSampler(train_sample_weights, num_samples=len(train_sample_weights), replacement=True)\n",
        "\n",
        "  # Split folds\n",
        "  train_subset = torch.utils.data.Subset(dataset, train_idx)\n",
        "  test_subset = torch.utils.data.Subset(dataset, test_idx)\n",
        "  train_loader = DataLoader(train_subset, batch_size = 16, sampler=train_sampler)\n",
        "  test_loader = DataLoader(test_subset, batch_size = 16, shuffle = False)\n",
        "\n",
        "  # Initialize model, loss function, optimizer\n",
        "  model = nnModel()\n",
        "  criterion = nn.CrossEntropyLoss(weight=torch.tensor([1.0, 2.0, 1.5])) # because we have imbalance dataset\n",
        "  optimizer = optim.Adam(model.parameters(), lr = 0.001)\n",
        "\n",
        "  # Training\n",
        "  for epoch in range(10):\n",
        "    model.train()\n",
        "    for batch in train_loader:\n",
        "      inputs, targets = batch\n",
        "      optimizer.zero_grad()\n",
        "      outputs = model(inputs)\n",
        "      loss = criterion(outputs, targets)\n",
        "      loss.backward()\n",
        "      optimizer.step()\n",
        "\n",
        "  # Evaluation\n",
        "  correct = 0\n",
        "  total = 0\n",
        "  all_targets = []\n",
        "  all_predictions = []\n",
        "  model.eval()\n",
        "  with torch.no_grad():\n",
        "    for batch in test_loader:\n",
        "      inputs, targets = batch\n",
        "      outputs = model(inputs)\n",
        "      _, predicted = torch.max(outputs, 1)\n",
        "      correct += (predicted == targets).sum().item()\n",
        "      total += targets.size(0)\n",
        "      all_targets.extend(targets.tolist())\n",
        "      all_predictions.extend(predicted.tolist())\n",
        "\n",
        "  accuracy = correct / total\n",
        "  kf_result.append(accuracy)\n",
        "  print(f\"Accuracy for fold {fold + 1}: {accuracy:.2f}\")"
      ],
      "metadata": {
        "colab": {
          "base_uri": "https://localhost:8080/"
        },
        "id": "2sICz3OgXG0l",
        "outputId": "b80a3c90-71f4-49ac-9dbe-ae665f4361b6"
      },
      "execution_count": 28,
      "outputs": [
        {
          "output_type": "stream",
          "name": "stdout",
          "text": [
            "Accuracy for fold 1: 0.33\n",
            "Accuracy for fold 2: 0.60\n",
            "Accuracy for fold 3: 0.33\n",
            "Accuracy for fold 4: 0.47\n",
            "Accuracy for fold 5: 0.70\n"
          ]
        }
      ]
    },
    {
      "cell_type": "code",
      "source": [
        "# Overall performance\n",
        "print(f\"Mean Accuracy over {folds_count} folds: {sum(kf_result) / len(kf_result):.2f}\")"
      ],
      "metadata": {
        "colab": {
          "base_uri": "https://localhost:8080/"
        },
        "id": "yf1J4Er2musC",
        "outputId": "243de0e7-34eb-4bc8-a439-cf125546a142"
      },
      "execution_count": 29,
      "outputs": [
        {
          "output_type": "stream",
          "name": "stdout",
          "text": [
            "Mean Accuracy over 5 folds: 0.49\n"
          ]
        }
      ]
    },
    {
      "cell_type": "code",
      "source": [
        "print(classification_report(all_targets,all_predictions, zero_division=0))"
      ],
      "metadata": {
        "colab": {
          "base_uri": "https://localhost:8080/"
        },
        "id": "Q7IxU_UaAO1h",
        "outputId": "63a0661c-d781-4a0e-e93f-53e37755fa75"
      },
      "execution_count": 30,
      "outputs": [
        {
          "output_type": "stream",
          "name": "stdout",
          "text": [
            "              precision    recall  f1-score   support\n",
            "\n",
            "           0       0.00      0.00      0.00         7\n",
            "           1       0.56      0.91      0.69        11\n",
            "           2       0.92      0.92      0.92        12\n",
            "\n",
            "    accuracy                           0.70        30\n",
            "   macro avg       0.49      0.61      0.54        30\n",
            "weighted avg       0.57      0.70      0.62        30\n",
            "\n"
          ]
        }
      ]
    },
    {
      "cell_type": "code",
      "source": [
        "# confusion matrix\n",
        "cm = confusion_matrix(all_targets, all_predictions)\n",
        "\n",
        "plt.figure(figsize=(8, 6))\n",
        "sns.heatmap(cm, annot=True, fmt='d', cmap='Blues', xticklabels=['Class 0', 'Class 1', 'Class 2'], yticklabels=['Class 0', 'Class 1', 'Class 2'])\n",
        "plt.xlabel('Predicted')\n",
        "plt.ylabel('Actual')\n",
        "plt.title('Confusion Matrix')\n",
        "plt.show()"
      ],
      "metadata": {
        "colab": {
          "base_uri": "https://localhost:8080/",
          "height": 564
        },
        "id": "HDs4cTJxAXqI",
        "outputId": "e7a7c8a0-7fc8-4932-fd2d-cd43d56c03a3"
      },
      "execution_count": 31,
      "outputs": [
        {
          "output_type": "display_data",
          "data": {
            "text/plain": [
              "<Figure size 800x600 with 2 Axes>"
            ],
            "image/png": "[encoded data removed]"
          },
          "metadata": {}
        }
      ]
    }
  ]
}