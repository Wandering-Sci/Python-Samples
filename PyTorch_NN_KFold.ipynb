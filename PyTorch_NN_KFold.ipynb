{
  "nbformat": 4,
  "nbformat_minor": 0,
  "metadata": {
    "colab": {
      "provenance": [],
      "gpuType": "T4",
      "authorship_tag": "ABX9TyNFCTUAV3TUAFcHUEcvyf2l",
      "include_colab_link": true
    },
    "kernelspec": {
      "name": "python3",
      "display_name": "Python 3"
    },
    "language_info": {
      "name": "python"
    },
    "accelerator": "GPU"
  },
  "cells": [
    {
      "cell_type": "markdown",
      "metadata": {
        "id": "view-in-github",
        "colab_type": "text"
      },
      "source": [
        "<a href=\"https://colab.research.google.com/github/Wandering-Sci/Python-Samples/blob/main/PyTorch_NN_KFold.ipynb\" target=\"_parent\"><img src=\"https://colab.research.google.com/assets/colab-badge.svg\" alt=\"Open In Colab\"/></a>"
      ]
    },
    {
      "cell_type": "markdown",
      "source": [
        "**PyTorch example on Iris dataset with K-Fold Cross-Validation**"
      ],
      "metadata": {
        "id": "eGkG4KA-ohcn"
      }
    },
    {
      "cell_type": "code",
      "execution_count": 1,
      "metadata": {
        "id": "8toHuXUwtMy-"
      },
      "outputs": [],
      "source": [
        "import numpy as np\n",
        "import pandas as pd\n",
        "import random\n",
        "import torch\n",
        "import torch.nn as nn\n",
        "import torch.nn.functional as F\n",
        "from sklearn.datasets import load_iris\n",
        "import torch.optim as optim\n",
        "from sklearn.model_selection import KFold\n",
        "from torch.utils.data import TensorDataset, DataLoader\n",
        "from sklearn.metrics import classification_report, confusion_matrix, precision_score, recall_score, f1_score\n",
        "import matplotlib.pyplot as plt\n",
        "import seaborn as sns"
      ]
    },
    {
      "cell_type": "code",
      "source": [
        "# Set random seed for reproducibility\n",
        "SEED = 42\n",
        "torch.manual_seed(SEED)\n",
        "np.random.seed(SEED)\n",
        "random.seed(SEED)\n",
        "\n",
        "# For CUDA (if using a GPU)\n",
        "if torch.cuda.is_available():\n",
        "    torch.cuda.manual_seed(SEED)\n",
        "    torch.cuda.manual_seed_all(SEED)  # For multi-GPU setups\n",
        "    torch.backends.cudnn.deterministic = True\n",
        "    torch.backends.cudnn.benchmark = False  # Ensures deterministic behavior\n",
        "\n",
        "# Load iris dataset\n",
        "iris = load_iris()\n",
        "iris_x = torch.tensor(iris.data, dtype=torch.float32)\n",
        "iris_y = torch.tensor(iris.target, dtype=torch.long)\n",
        "\n",
        "dataset = TensorDataset(iris_x, iris_y)"
      ],
      "metadata": {
        "id": "Jafdky4Dv7ck"
      },
      "execution_count": 2,
      "outputs": []
    },
    {
      "cell_type": "code",
      "source": [
        "# Creating NN Model class\n",
        "class nnModel(nn.Module):\n",
        "  def __init__(self, input_size = 4, fc1 = 8, output_size = 3):\n",
        "    super().__init__()\n",
        "    self.fc1 = nn.Linear(input_size, fc1)\n",
        "    self.out = nn.Linear(fc1, output_size)\n",
        "\n",
        "  def forward(self, data):\n",
        "    data = F.relu(self.fc1(data))\n",
        "    data = self.out(data)\n",
        "    return data"
      ],
      "metadata": {
        "id": "XwaDzsB2xSLW"
      },
      "execution_count": 3,
      "outputs": []
    },
    {
      "cell_type": "code",
      "source": [
        "# Initializing KFold cross-validation\n",
        "folds_count = 5\n",
        "kf = KFold(n_splits = folds_count, shuffle = True, random_state = SEED)\n",
        "\n",
        "kf_result = []\n",
        "for fold, (train_idx, test_idx) in enumerate(kf.split(dataset)):\n",
        "  # Split folds\n",
        "  train_subset = torch.utils.data.Subset(dataset, train_idx)\n",
        "  test_subset = torch.utils.data.Subset(dataset, test_idx)\n",
        "  train_loader = DataLoader(train_subset, batch_size = 16, shuffle = True)\n",
        "  test_loader = DataLoader(test_subset, batch_size = 16, shuffle = False)\n",
        "\n",
        "  # Initialize model, loss function, optimizer\n",
        "  model = nnModel()\n",
        "  criterion = nn.CrossEntropyLoss(weight=torch.tensor([1.0, 2.0, 1.5])) # because we have imbalance dataset\n",
        "  optimizer = optim.Adam(model.parameters(), lr = 0.001)\n",
        "\n",
        "  # Training\n",
        "  for epoch in range(10):\n",
        "    model.train()\n",
        "    for batch in train_loader:\n",
        "      inputs, targets = batch\n",
        "      optimizer.zero_grad()\n",
        "      outputs = model(inputs)\n",
        "      loss = criterion(outputs, targets)\n",
        "      loss.backward()\n",
        "      optimizer.step()\n",
        "\n",
        "  # Evaluation\n",
        "  correct = 0\n",
        "  total = 0\n",
        "  all_targets = []\n",
        "  all_predictions = []\n",
        "  model.eval()\n",
        "  with torch.no_grad():\n",
        "    for batch in test_loader:\n",
        "      inputs, targets = batch\n",
        "      outputs = model(inputs)\n",
        "      _, predicted = torch.max(outputs, 1)\n",
        "      correct += (predicted == targets).sum().item()\n",
        "      total += targets.size(0)\n",
        "      all_targets.extend(targets.tolist())\n",
        "      all_predictions.extend(predicted.tolist())\n",
        "\n",
        "  accuracy = correct / total\n",
        "  kf_result.append(accuracy)\n",
        "  print(f\"Accuracy for fold {fold + 1}: {accuracy:.2f}\")"
      ],
      "metadata": {
        "colab": {
          "base_uri": "https://localhost:8080/"
        },
        "id": "2sICz3OgXG0l",
        "outputId": "f297829c-d38a-4e4d-fb2d-46086809c99c"
      },
      "execution_count": 9,
      "outputs": [
        {
          "output_type": "stream",
          "name": "stdout",
          "text": [
            "Accuracy for fold 1: 0.53\n",
            "Accuracy for fold 2: 0.50\n",
            "Accuracy for fold 3: 0.43\n",
            "Accuracy for fold 4: 0.47\n",
            "Accuracy for fold 5: 0.70\n"
          ]
        }
      ]
    },
    {
      "cell_type": "code",
      "source": [
        "# Overall performance\n",
        "print(f\"Mean Accuracy over {folds_count} folds: {sum(kf_result) / len(kf_result):.2f}\")"
      ],
      "metadata": {
        "colab": {
          "base_uri": "https://localhost:8080/"
        },
        "id": "yf1J4Er2musC",
        "outputId": "7adc5695-0f54-430e-d8be-f941b720512c"
      },
      "execution_count": 10,
      "outputs": [
        {
          "output_type": "stream",
          "name": "stdout",
          "text": [
            "Mean Accuracy over 5 folds: 0.53\n"
          ]
        }
      ]
    },
    {
      "cell_type": "code",
      "source": [
        "print(classification_report(all_targets,all_predictions, zero_division=0))"
      ],
      "metadata": {
        "colab": {
          "base_uri": "https://localhost:8080/"
        },
        "id": "Q7IxU_UaAO1h",
        "outputId": "6a9c1c07-b0b3-43a3-d0b0-59eeab178868"
      },
      "execution_count": 11,
      "outputs": [
        {
          "output_type": "stream",
          "name": "stdout",
          "text": [
            "              precision    recall  f1-score   support\n",
            "\n",
            "           0       1.00      0.71      0.83         7\n",
            "           1       0.83      0.45      0.59        11\n",
            "           2       0.58      0.92      0.71        12\n",
            "\n",
            "    accuracy                           0.70        30\n",
            "   macro avg       0.80      0.70      0.71        30\n",
            "weighted avg       0.77      0.70      0.69        30\n",
            "\n"
          ]
        }
      ]
    },
    {
      "cell_type": "code",
      "source": [
        "# confusion matrix\n",
        "cm = confusion_matrix(all_targets, all_predictions)\n",
        "\n",
        "plt.figure(figsize=(8, 6))\n",
        "sns.heatmap(cm, annot=True, fmt='d', cmap='Blues', xticklabels=['Class 0', 'Class 1', 'Class 2'], yticklabels=['Class 0', 'Class 1', 'Class 2'])\n",
        "plt.xlabel('Predicted')\n",
        "plt.ylabel('Actual')\n",
        "plt.title('Confusion Matrix')\n",
        "plt.show()"
      ],
      "metadata": {
        "colab": {
          "base_uri": "https://localhost:8080/",
          "height": 564
        },
        "id": "HDs4cTJxAXqI",
        "outputId": "adec29a7-10e7-4110-b197-8c75ee03a156"
      },
      "execution_count": 12,
      "outputs": [
        {
          "output_type": "display_data",
          "data": {
            "text/plain": [
              "<Figure size 800x600 with 2 Axes>"
            ],
            "image/png": "[encoded data removed]"
          },
          "metadata": {}
        }
      ]
    },
    {
      "cell_type": "code",
      "source": [],
      "metadata": {
        "id": "Y3vOxsPMCmDx"
      },
      "execution_count": null,
      "outputs": []
    }
  ]
}