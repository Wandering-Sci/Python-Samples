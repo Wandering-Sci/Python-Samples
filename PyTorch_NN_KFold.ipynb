{
  "nbformat": 4,
  "nbformat_minor": 0,
  "metadata": {
    "colab": {
      "provenance": [],
      "authorship_tag": "ABX9TyNCTRN2Ea7mKQ/DpKfwU1PQ",
      "include_colab_link": true
    },
    "kernelspec": {
      "name": "python3",
      "display_name": "Python 3"
    },
    "language_info": {
      "name": "python"
    }
  },
  "cells": [
    {
      "cell_type": "markdown",
      "metadata": {
        "id": "view-in-github",
        "colab_type": "text"
      },
      "source": [
        "<a href=\"https://colab.research.google.com/github/Wandering-Sci/Python-Samples/blob/main/PyTorch_NN_KFold.ipynb\" target=\"_parent\"><img src=\"https://colab.research.google.com/assets/colab-badge.svg\" alt=\"Open In Colab\"/></a>"
      ]
    },
    {
      "cell_type": "markdown",
      "source": [
        "**PyTorch example on Iris dataset with K-Fold Cross-Validation**"
      ],
      "metadata": {
        "id": "eGkG4KA-ohcn"
      }
    },
    {
      "cell_type": "code",
      "execution_count": 2,
      "metadata": {
        "id": "8toHuXUwtMy-"
      },
      "outputs": [],
      "source": [
        "import numpy as np\n",
        "import pandas as pd\n",
        "import torch\n",
        "import torch.nn as nn\n",
        "import torch.nn.functional as F\n",
        "from sklearn.datasets import load_iris\n",
        "import torch.optim as optim\n",
        "from sklearn.model_selection import KFold\n",
        "from torch.utils.data import TensorDataset, DataLoader"
      ]
    },
    {
      "cell_type": "code",
      "source": [
        "# Load iris dataset\n",
        "iris = load_iris()\n",
        "iris_x = torch.tensor(iris.data, dtype=torch.float32)\n",
        "iris_y = torch.tensor(iris.target, dtype=torch.long)\n",
        "\n",
        "dataset = TensorDataset(iris_x, iris_y)"
      ],
      "metadata": {
        "id": "Jafdky4Dv7ck"
      },
      "execution_count": 3,
      "outputs": []
    },
    {
      "cell_type": "code",
      "source": [
        "# Creating NN Model class\n",
        "class nnModel(nn.Module):\n",
        "  def __init__(self, input_size = 4, fc1 = 8, output_size = 3):\n",
        "    super().__init__()\n",
        "    self.fc1 = nn.Linear(input_size, fc1)\n",
        "    self.out = nn.Linear(fc1, output_size)\n",
        "\n",
        "  def forward(self, data):\n",
        "    data = F.relu(self.fc1(data))\n",
        "    data = self.out(data)\n",
        "    return data"
      ],
      "metadata": {
        "id": "XwaDzsB2xSLW"
      },
      "execution_count": 4,
      "outputs": []
    },
    {
      "cell_type": "code",
      "source": [
        "# Initializing KFold cross-validation\n",
        "folds_count = 5\n",
        "kf = KFold(n_splits = folds_count, shuffle = True, random_state = 28)\n",
        "\n",
        "kf_result = []\n",
        "for fold, (train_idx, test_idx) in enumerate(kf.split(dataset)):\n",
        "  # Split folds\n",
        "  train_subset = torch.utils.data.Subset(dataset, train_idx)\n",
        "  test_subset = torch.utils.data.Subset(dataset, test_idx)\n",
        "  train_loader = DataLoader(train_subset, batch_size = 16, shuffle = True)\n",
        "  test_loader = DataLoader(test_subset, batch_size = 16, shuffle = False)\n",
        "\n",
        "  # Initialize model, loss function, optimizer\n",
        "  model = nnModel()\n",
        "  criterion = nn.CrossEntropyLoss()\n",
        "  optimizer = optim.Adam(model.parameters(), lr = 0.001)\n",
        "\n",
        "  # Training\n",
        "  for epoch in range(10):\n",
        "    model.train()\n",
        "    for batch in train_loader:\n",
        "      inputs, targets = batch\n",
        "      optimizer.zero_grad()\n",
        "      outputs = model(inputs)\n",
        "      loss = criterion(outputs, targets)\n",
        "      loss.backward()\n",
        "      optimizer.step()\n",
        "\n",
        "  # Evaluation\n",
        "  correct = 0\n",
        "  total = 0\n",
        "  model.eval()\n",
        "  with torch.no_grad():\n",
        "    for batch in test_loader:\n",
        "      inputs, targets = batch\n",
        "      outputs = model(inputs)\n",
        "      _, predicted = torch.max(outputs, 1)\n",
        "      correct += (predicted == targets).sum().item()\n",
        "      total += targets.size(0)\n",
        "\n",
        "  accuracy = correct / total\n",
        "  kf_result.append(accuracy)\n",
        "  print(f\"Accuracy for fold {fold + 1}: {accuracy:.2f}\")"
      ],
      "metadata": {
        "colab": {
          "base_uri": "https://localhost:8080/"
        },
        "id": "2sICz3OgXG0l",
        "outputId": "d473a699-097a-4bd8-962e-3bc39bdc7a1a"
      },
      "execution_count": 6,
      "outputs": [
        {
          "output_type": "stream",
          "name": "stdout",
          "text": [
            "Accuracy for fold 1: 0.33\n",
            "Accuracy for fold 2: 0.30\n",
            "Accuracy for fold 3: 0.63\n",
            "Accuracy for fold 4: 0.70\n",
            "Accuracy for fold 5: 0.77\n"
          ]
        }
      ]
    },
    {
      "cell_type": "code",
      "source": [
        "# Overall performance\n",
        "print(f\"Mean accuracy over {folds_count} folds: {sum(kf_result) / len(kf_result):.2f}\")"
      ],
      "metadata": {
        "colab": {
          "base_uri": "https://localhost:8080/"
        },
        "id": "yf1J4Er2musC",
        "outputId": "ec037026-933a-40d3-bdfc-5d5afb0c9b65"
      },
      "execution_count": 9,
      "outputs": [
        {
          "output_type": "stream",
          "name": "stdout",
          "text": [
            "Mean accuracy over 5 folds: 0.55\n"
          ]
        }
      ]
    }
  ]
}